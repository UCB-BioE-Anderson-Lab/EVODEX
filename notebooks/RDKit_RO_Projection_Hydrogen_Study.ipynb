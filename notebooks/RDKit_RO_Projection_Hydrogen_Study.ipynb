{
  "nbformat": 4,
  "nbformat_minor": 0,
  "metadata": {
    "colab": {
      "provenance": []
    },
    "kernelspec": {
      "name": "python3",
      "display_name": "Python 3"
    }
  },
  "cells": [
    {
      "cell_type": "markdown",
      "source": [
        "The goal of this colab is to determine whether we need to include explicit hydrogens in reaction operators and whether RDKit handles them correctly.  The answer is yes and yes -- both the RO and substrate need explicit hydrogens"
      ],
      "metadata": {
        "id": "jGUOf2wOnbhM"
      }
    },
    {
      "cell_type": "code",
      "metadata": {
        "id": "iNWdZyjEqoyO"
      },
      "source": [
        "# Install and import RDKit\n",
        "%%capture\n",
        "!pip install rdkit\n",
        "from rdkit import Chem\n",
        "from rdkit.Chem import rdChemReactions\n"
      ],
      "execution_count": null,
      "outputs": []
    },
    {
      "cell_type": "markdown",
      "source": [
        "# RO Projection with only implicit hydrogens"
      ],
      "metadata": {
        "id": "nCxf4R8l1afH"
      }
    },
    {
      "cell_type": "code",
      "source": [
        "# Import a test substrate from SMILES with implicit hydrogens\n",
        "ethanol = Chem.MolFromSmiles('CCO')\n",
        "ethanol"
      ],
      "metadata": {
        "colab": {
          "base_uri": "https://localhost:8080/",
          "height": 167
        },
        "id": "p1enNNSUirxB",
        "outputId": "37de3113-b679-489f-9a32-6d3f836c871e"
      },
      "execution_count": null,
      "outputs": [
        {
          "output_type": "execute_result",
          "data": {
            "text/plain": [
              "<rdkit.Chem.rdchem.Mol at 0x794d6257b990>"
            ],
            "image/png": "[encoded data removed]"
          },
          "metadata": {},
          "execution_count": 82
        }
      ]
    },
    {
      "cell_type": "code",
      "source": [
        "# Define a SMIRKS string for oxidation of an alcohol with no H's specifified\n",
        "smirks = '[C:1]-[O:2]>>[C:1]=[O:2]'\n",
        "# Create a reaction operator object from the SMIRKS string\n",
        "ro = rdChemReactions.ReactionFromSmarts(smirks)\n",
        "ro\n"
      ],
      "metadata": {
        "id": "XbkOoC5ldbiB",
        "colab": {
          "base_uri": "https://localhost:8080/",
          "height": 167
        },
        "outputId": "63e4d5d3-e4c0-48ff-8aab-60b06f011074"
      },
      "execution_count": null,
      "outputs": [
        {
          "output_type": "execute_result",
          "data": {
            "text/plain": [
              "<rdkit.Chem.rdChemReactions.ChemicalReaction at 0x794d6257ad50>"
            ],
            "image/png": "[encoded data removed]"
          },
          "metadata": {},
          "execution_count": 71
        }
      ]
    },
    {
      "cell_type": "code",
      "source": [
        "# Apply the ro to ethanol (no H's)\n",
        "products = ro.RunReactants([ethanol])\n",
        "\n",
        "# Loop through the products and print SMILES strings\n",
        "pdt = None\n",
        "for product_set in products:\n",
        "    for mol in product_set:\n",
        "        print(Chem.MolToSmiles(mol))\n",
        "        pdt = mol\n",
        "pdt"
      ],
      "metadata": {
        "id": "H9K5CfhGrg3d",
        "colab": {
          "base_uri": "https://localhost:8080/",
          "height": 184
        },
        "outputId": "0fbbbd15-ef08-4219-bfe4-ea6d2dbb2d59"
      },
      "execution_count": null,
      "outputs": [
        {
          "output_type": "stream",
          "name": "stdout",
          "text": [
            "CC=O\n"
          ]
        },
        {
          "output_type": "execute_result",
          "data": {
            "text/plain": [
              "<rdkit.Chem.rdchem.Mol at 0x794d6257a110>"
            ],
            "image/png": "[encoded data removed]"
          },
          "metadata": {},
          "execution_count": 72
        }
      ]
    },
    {
      "cell_type": "markdown",
      "source": [
        "So, applying an implicit-hydrogen operator to an implicit-hydrogen alcohol substrate results in the correct product.\n",
        "\n",
        "However, that RO incorrectly handles this substrate:"
      ],
      "metadata": {
        "id": "HEyZSIMMywnG"
      }
    },
    {
      "cell_type": "code",
      "source": [
        "ethanoic = Chem.MolFromSmiles('CC(=O)O')\n",
        "ethanoic"
      ],
      "metadata": {
        "colab": {
          "base_uri": "https://localhost:8080/",
          "height": 167
        },
        "id": "J7hHwicDzBQO",
        "outputId": "5c18ac0a-f4ac-4804-e1a4-758457bbaa61"
      },
      "execution_count": null,
      "outputs": [
        {
          "output_type": "execute_result",
          "data": {
            "text/plain": [
              "<rdkit.Chem.rdchem.Mol at 0x794d6257b6f0>"
            ],
            "image/png": "[encoded data removed]"
          },
          "metadata": {},
          "execution_count": 73
        }
      ]
    },
    {
      "cell_type": "code",
      "source": [
        "# Apply the ro to ethanoic acid (no H's)\n",
        "products = ro.RunReactants([ethanoic])\n",
        "\n",
        "# Loop through the products and print SMILES strings\n",
        "pdt = None\n",
        "for product_set in products:\n",
        "    for mol in product_set:\n",
        "        print(Chem.MolToSmiles(mol))\n",
        "        pdt = mol\n",
        "pdt\n"
      ],
      "metadata": {
        "colab": {
          "base_uri": "https://localhost:8080/",
          "height": 184
        },
        "id": "jRpZTG8Tz7W3",
        "outputId": "401dcd95-e9fb-4fa7-a32d-0e637dde8cbd"
      },
      "execution_count": null,
      "outputs": [
        {
          "output_type": "stream",
          "name": "stdout",
          "text": [
            "CC(=O)=O\n"
          ]
        },
        {
          "output_type": "execute_result",
          "data": {
            "text/plain": [
              "<rdkit.Chem.rdchem.Mol at 0x794d6257b7d0>"
            ],
            "image/png": "[encoded data removed]"
          },
          "metadata": {},
          "execution_count": 74
        }
      ]
    },
    {
      "cell_type": "markdown",
      "source": [
        "It got this wrong.  There should be no products.  By not including the Hydrogens in the reaction operator, you get an overly broad prediction that does not consider their necessity in the reaction resulting in an answer that violates valency -- there are 5 atoms attached to the carbon here.\n"
      ],
      "metadata": {
        "id": "5rOkYjyOzxtM"
      }
    },
    {
      "cell_type": "markdown",
      "source": [
        "# RO Projection with explicit hydrogen RO on implicit hydrogen substrate"
      ],
      "metadata": {
        "id": "n_DKh63U1tq4"
      }
    },
    {
      "cell_type": "code",
      "source": [
        "# Define a SMIRKS string for oxidation of an alcohol with no H's specifified\n",
        "smirksWithHs = '[C:1]([H])-[O:2]([H])>>[C:1]=[O:2]'\n",
        "# Create a reaction operator object from the SMIRKS string\n",
        "roWithHs = rdChemReactions.ReactionFromSmarts(smirksWithHs)\n",
        "roWithHs"
      ],
      "metadata": {
        "colab": {
          "base_uri": "https://localhost:8080/",
          "height": 167
        },
        "id": "L9Y4mZSg08lk",
        "outputId": "8b6c393a-a7f7-4820-a81b-e14829d0c106"
      },
      "execution_count": null,
      "outputs": [
        {
          "output_type": "execute_result",
          "data": {
            "text/plain": [
              "<rdkit.Chem.rdChemReactions.ChemicalReaction at 0x794d6257bb50>"
            ],
            "image/png": "[encoded data removed]"
          },
          "metadata": {},
          "execution_count": 83
        }
      ]
    },
    {
      "cell_type": "code",
      "source": [
        "# Apply the ro to ethanol (no H's)\n",
        "products = roWithHs.RunReactants([ethanol])\n",
        "\n",
        "# Loop through the products and print SMILES strings\n",
        "pdt = None\n",
        "for product_set in products:\n",
        "    for mol in product_set:\n",
        "        print(Chem.MolToSmiles(mol))\n",
        "        pdt = mol\n",
        "pdt\n"
      ],
      "metadata": {
        "id": "ulzytcO61CqG"
      },
      "execution_count": null,
      "outputs": []
    },
    {
      "cell_type": "markdown",
      "source": [
        "It incorrectly predicts no product.  There should be a product."
      ],
      "metadata": {
        "id": "euNwprx11Ilj"
      }
    },
    {
      "cell_type": "code",
      "source": [
        "# Define a SMIRKS string for oxidation of an alcohol with no H's specifified\n",
        "# In this version we explicitly state the single bonds\n",
        "smirksWithHsSingleBonds = '[C:1](-[H])-[O:2](-[H])>>[C:1]=[O:2]'\n",
        "# Create a reaction operator object from the SMIRKS string\n",
        "roWithWithHsSingleBonds = rdChemReactions.ReactionFromSmarts(smirksWithHsSingleBonds)\n",
        "roWithWithHsSingleBonds"
      ],
      "metadata": {
        "colab": {
          "base_uri": "https://localhost:8080/",
          "height": 167
        },
        "id": "yKhmuxloyS8v",
        "outputId": "c6f22adb-89ee-4010-d8b6-2b5a48ebd273"
      },
      "execution_count": null,
      "outputs": [
        {
          "output_type": "execute_result",
          "data": {
            "text/plain": [
              "<rdkit.Chem.rdChemReactions.ChemicalReaction at 0x794d6257b610>"
            ],
            "image/png": "[encoded data removed]"
          },
          "metadata": {},
          "execution_count": 77
        }
      ]
    },
    {
      "cell_type": "code",
      "source": [
        "# Apply the ro to ethanol (no H's)\n",
        "products = roWithWithHsSingleBonds.RunReactants([ethanol])\n",
        "\n",
        "# Loop through the products and print SMILES strings\n",
        "pdt = None\n",
        "for product_set in products:\n",
        "    for mol in product_set:\n",
        "        print(Chem.MolToSmiles(mol))\n",
        "        pdt = mol\n",
        "pdt\n"
      ],
      "metadata": {
        "id": "Rjzy8nKEymRs"
      },
      "execution_count": null,
      "outputs": []
    },
    {
      "cell_type": "markdown",
      "source": [
        "It got this wrong too.  It appears that it does not match the hydrogens in the RO to implicit hydrogens."
      ],
      "metadata": {
        "id": "gA64Kcvm0ibm"
      }
    },
    {
      "cell_type": "markdown",
      "source": [
        "# RO Projection with explicit hydrogens"
      ],
      "metadata": {
        "id": "tfLrY3pZ12mi"
      }
    },
    {
      "cell_type": "code",
      "source": [
        "explicitEthanol = Chem.AddHs(ethanol)\n",
        "explicitEthanol\n"
      ],
      "metadata": {
        "colab": {
          "base_uri": "https://localhost:8080/",
          "height": 167
        },
        "id": "15Tt3J7319Bv",
        "outputId": "d199a2f5-0e9a-4657-b039-7d1b9b618a1e"
      },
      "execution_count": null,
      "outputs": [
        {
          "output_type": "execute_result",
          "data": {
            "text/plain": [
              "<rdkit.Chem.rdchem.Mol at 0x794d62584190>"
            ],
            "image/png": "[encoded data removed]"
          },
          "metadata": {},
          "execution_count": 79
        }
      ]
    },
    {
      "cell_type": "code",
      "source": [
        "# Apply the explicit hydrogen ro to ethanol with explicit hydrogens\n",
        "products = roWithHs.RunReactants([explicitEthanol])\n",
        "\n",
        "# Loop through the products and print SMILES strings\n",
        "pdt = None\n",
        "for product_set in products:\n",
        "    for mol in product_set:\n",
        "        print(Chem.MolToSmiles(mol))\n",
        "        pdt = mol\n",
        "pdt\n"
      ],
      "metadata": {
        "colab": {
          "base_uri": "https://localhost:8080/",
          "height": 202
        },
        "id": "iHHs-BYv2Ao7",
        "outputId": "4a775662-50f4-430c-ff77-e8cda78c56f9"
      },
      "execution_count": null,
      "outputs": [
        {
          "output_type": "stream",
          "name": "stdout",
          "text": [
            "[H]C(=O)C([H])([H])[H]\n",
            "[H]C(=O)C([H])([H])[H]\n"
          ]
        },
        {
          "output_type": "execute_result",
          "data": {
            "text/plain": [
              "<rdkit.Chem.rdchem.Mol at 0x794d62584430>"
            ],
            "image/png": "[encoded data removed]"
          },
          "metadata": {},
          "execution_count": 80
        }
      ]
    },
    {
      "cell_type": "markdown",
      "source": [
        "It gets the right answer. There are two products (that are identical) because there are 2 hydrogens on the carbon and thus the RO could apply to either of them."
      ],
      "metadata": {
        "id": "oKMdA-U22mMj"
      }
    },
    {
      "cell_type": "code",
      "source": [
        "# Apply the ro to ethanol with explicit H's\n",
        "products = roWithWithHsSingleBonds.RunReactants([explicitEthanol])\n",
        "\n",
        "# Loop through the products and print SMILES strings\n",
        "pdt = None\n",
        "for product_set in products:\n",
        "    for mol in product_set:\n",
        "        print(Chem.MolToSmiles(mol))\n",
        "        pdt = mol\n",
        "pdt\n"
      ],
      "metadata": {
        "colab": {
          "base_uri": "https://localhost:8080/",
          "height": 202
        },
        "id": "4GLhGCun3Hd7",
        "outputId": "cc7881e1-17ba-4928-c60d-bfbe2480c0cd"
      },
      "execution_count": null,
      "outputs": [
        {
          "output_type": "stream",
          "name": "stdout",
          "text": [
            "[H]C(=O)C([H])([H])[H]\n",
            "[H]C(=O)C([H])([H])[H]\n"
          ]
        },
        {
          "output_type": "execute_result",
          "data": {
            "text/plain": [
              "<rdkit.Chem.rdchem.Mol at 0x794d62584740>"
            ],
            "image/png": "[encoded data removed]"
          },
          "metadata": {},
          "execution_count": 81
        }
      ]
    },
    {
      "cell_type": "markdown",
      "source": [
        "It works equally well with the bonds explicitly stated as single bonds"
      ],
      "metadata": {
        "id": "4QOzRZvd3OYr"
      }
    },
    {
      "cell_type": "markdown",
      "source": [
        "# Conclusions\n",
        "RDKit works just fine with hydrogens as long as both the RO and substrate have explicit H's.  It the substrate is implicit and the SMIRKS has a hydrogen, it won't match and there will be no product.  If both are implicit, RDKit will give a product, but it may be an erroneous product with chemically invalid valency."
      ],
      "metadata": {
        "id": "QSlqXA1P3WX3"
      }
    }
  ]
}