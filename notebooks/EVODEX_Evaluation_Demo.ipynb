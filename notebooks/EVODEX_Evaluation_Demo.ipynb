{
  "nbformat": 4,
  "nbformat_minor": 0,
  "metadata": {
    "colab": {
      "provenance": []
    },
    "kernelspec": {
      "name": "python3",
      "display_name": "Python 3"
    },
    "language_info": {
      "name": "python"
    }
  },
  "cells": [
    {
      "cell_type": "markdown",
      "source": [
        "### EVODEX Evaluation Demonstration\n",
        "\n",
        "This notebook demonstrates the use of the EVODEX evaluation package, a tool designed for evaluating the mechanistic plausibility of proposed enzymatic reactions. The package facilitates the assessment of reaction operators by determining if they match known mechanistic patterns stored in the EVODEX dataset.\n",
        "\n",
        "The EVODEX evaluation package offers two primary functions:\n",
        "\n",
        "1. `assign_evodex_F`: This function calculates the formula difference for a given reaction and assigns an EVODEX-F ID if it exists. This ID indicates a known formula change pattern but does not confirm the specific mechanism.\n",
        "\n",
        "2. `match_operator`: This function performs a more detailed analysis by projecting the reaction operator (SMIRKS) on the substrate and comparing the produced product with the expected product. It evaluates the operator against EVODEX-E, -C, or -N datasets to find a matching mechanism. This function is more computationally expensive but provides additional precision.\n",
        "\n",
        "Both functions employ lazy loading and subsequent caching of EVODEX data to optimize performance. The computational cost involves indexing the EVODEX data efficiently, which happens once and is then saved as JSON files. The match_operator function incurs additional cost due to the need to project and match products for a shortlist of operators.\n",
        "\n",
        "## Installation and Imports"
      ],
      "metadata": {
        "id": "-1r9L9OmxAWk"
      }
    },
    {
      "cell_type": "code",
      "execution_count": 1,
      "metadata": {
        "id": "LUPS4sp0ivxd",
        "colab": {
          "base_uri": "https://localhost:8080/"
        },
        "outputId": "3fd26d07-bca1-4fa2-f273-13369dfa1402"
      },
      "outputs": [
        {
          "output_type": "stream",
          "name": "stdout",
          "text": [
            "\u001b[2K   \u001b[90m━━━━━━━━━━━━━━━━━━━━━━━━━━━━━━━━━━━━━━━━\u001b[0m \u001b[32m9.0/9.0 MB\u001b[0m \u001b[31m32.3 MB/s\u001b[0m eta \u001b[36m0:00:00\u001b[0m\n",
            "\u001b[2K   \u001b[90m━━━━━━━━━━━━━━━━━━━━━━━━━━━━━━━━━━━━━━━━\u001b[0m \u001b[32m29.4/29.4 MB\u001b[0m \u001b[31m19.2 MB/s\u001b[0m eta \u001b[36m0:00:00\u001b[0m\n",
            "\u001b[?25h"
          ]
        }
      ],
      "source": [
        "# Installation of the EVODEX library and import of evaluation methods\n",
        "!pip install evodex -q\n",
        "from evodex.evaluation import assign_evodex_F, match_operators\n",
        "\n",
        "# Additional imports used in this notebook\n",
        "import pandas as pd\n",
        "from rdkit import Chem\n",
        "from rdkit.Chem import AllChem\n",
        "from rdkit.Chem import Draw"
      ]
    },
    {
      "cell_type": "markdown",
      "source": [
        "## Define Substrates and Products for Evaluation"
      ],
      "metadata": {
        "id": "n1_um5Npu35h"
      }
    },
    {
      "cell_type": "code",
      "source": [
        "# Define substrates\n",
        "substrates = [\n",
        "    \"CCCO\",  # Propanol\n",
        "    \"C([C@@H](C(=O)O)N)O\"  # Serine\n",
        "]\n",
        "\n",
        "# Define products\n",
        "products = [\n",
        "    \"CCC=O\",  # Propanal\n",
        "    \"C([C@@H](C(=O)O)N)=O\",  # Oxidized Serine\n",
        "    \"CCCOC\",  # Methylation\n",
        "    \"CC(Br)CO\"  # Unreachable product\n",
        "]\n",
        "\n",
        "# Combine substrates and products into test reactions\n",
        "test_reactions = []\n",
        "for substrate in substrates:\n",
        "    for product in products:\n",
        "        test_reactions.append(f\"{substrate}>>{product}\")\n",
        "\n",
        "# Display test reactions\n",
        "test_reactions\n"
      ],
      "metadata": {
        "id": "E10JrF7ju4Sw",
        "colab": {
          "base_uri": "https://localhost:8080/"
        },
        "outputId": "6955de4c-ca5b-4deb-e700-27e7acd03704"
      },
      "execution_count": 2,
      "outputs": [
        {
          "output_type": "execute_result",
          "data": {
            "text/plain": [
              "['CCCO>>CCC=O',\n",
              " 'CCCO>>C([C@@H](C(=O)O)N)=O',\n",
              " 'CCCO>>CCCOC',\n",
              " 'CCCO>>CC(Br)CO',\n",
              " 'C([C@@H](C(=O)O)N)O>>CCC=O',\n",
              " 'C([C@@H](C(=O)O)N)O>>C([C@@H](C(=O)O)N)=O',\n",
              " 'C([C@@H](C(=O)O)N)O>>CCCOC',\n",
              " 'C([C@@H](C(=O)O)N)O>>CC(Br)CO']"
            ]
          },
          "metadata": {},
          "execution_count": 2
        }
      ]
    },
    {
      "cell_type": "markdown",
      "source": [
        "## Evaluate Reactions Using assign_evodex_F"
      ],
      "metadata": {
        "id": "s2g-HgsRpqod"
      }
    },
    {
      "cell_type": "code",
      "source": [
        "# Evaluate each reaction using assign_evodex_F\n",
        "assign_results = {}\n",
        "for reaction in test_reactions:\n",
        "    f_id = assign_evodex_F(reaction)\n",
        "    assign_results[reaction] = f_id\n",
        "\n",
        "# Display the results\n",
        "assign_results\n"
      ],
      "metadata": {
        "id": "I0xDbTMFvDxQ",
        "colab": {
          "base_uri": "https://localhost:8080/"
        },
        "outputId": "2cbc1e09-5d0e-4402-b4de-b187ecd045ce"
      },
      "execution_count": 3,
      "outputs": [
        {
          "output_type": "execute_result",
          "data": {
            "text/plain": [
              "{'CCCO>>CCC=O': ['EVODEX.0-F4'],\n",
              " 'CCCO>>C([C@@H](C(=O)O)N)=O': None,\n",
              " 'CCCO>>CCCOC': ['EVODEX.0-F569'],\n",
              " 'CCCO>>CC(Br)CO': None,\n",
              " 'C([C@@H](C(=O)O)N)O>>CCC=O': None,\n",
              " 'C([C@@H](C(=O)O)N)O>>C([C@@H](C(=O)O)N)=O': ['EVODEX.0-F4'],\n",
              " 'C([C@@H](C(=O)O)N)O>>CCCOC': None,\n",
              " 'C([C@@H](C(=O)O)N)O>>CC(Br)CO': None}"
            ]
          },
          "metadata": {},
          "execution_count": 3
        }
      ]
    },
    {
      "cell_type": "markdown",
      "source": [
        "## Evaluate Reactions Using match_operator"
      ],
      "metadata": {
        "id": "QwS18CSip_Tp"
      }
    },
    {
      "cell_type": "code",
      "source": [
        "# Evaluate each reaction using match_operator\n",
        "match_results = {}\n",
        "for reaction in test_reactions:\n",
        "    matched_operators = match_operators(reaction, 'E')\n",
        "    match_results[reaction] = matched_operators\n",
        "\n",
        "# Display the results\n",
        "match_results\n"
      ],
      "metadata": {
        "id": "iCW4GZbVqQpL",
        "colab": {
          "base_uri": "https://localhost:8080/"
        },
        "outputId": "41cd239a-9f4c-4f15-f3be-f39b47fc2253"
      },
      "execution_count": 4,
      "outputs": [
        {
          "output_type": "stream",
          "name": "stderr",
          "text": [
            "[19:49:16] product 1 has no mapped atoms.\n",
            "[19:49:16] product 2 has no mapped atoms.\n",
            "[19:49:16] reactant 0 has no mapped atoms.\n",
            "[19:49:16] product 0 has no mapped atoms.\n",
            "[19:49:16] product 1 has no mapped atoms.\n",
            "[19:49:16] product 1 has no mapped atoms.\n",
            "[19:49:16] product 2 has no mapped atoms.\n",
            "[19:49:16] product 1 has no mapped atoms.\n",
            "[19:49:16] product 2 has no mapped atoms.\n",
            "[19:49:16] product 1 has no mapped atoms.\n",
            "[19:49:16] product 2 has no mapped atoms.\n",
            "[19:49:16] product 0 has no mapped atoms.\n",
            "[19:49:16] product 1 has no mapped atoms.\n",
            "[19:49:16] product 2 has no mapped atoms.\n",
            "[19:49:16] reactant 0 has no mapped atoms.\n",
            "[19:49:16] product 0 has no mapped atoms.\n",
            "[19:49:16] product 1 has no mapped atoms.\n",
            "[19:49:16] product 1 has no mapped atoms.\n",
            "[19:49:16] product 2 has no mapped atoms.\n",
            "[19:49:16] product 1 has no mapped atoms.\n",
            "[19:49:16] product 2 has no mapped atoms.\n",
            "[19:49:16] product 1 has no mapped atoms.\n",
            "[19:49:16] product 2 has no mapped atoms.\n"
          ]
        },
        {
          "output_type": "execute_result",
          "data": {
            "text/plain": [
              "{'CCCO>>CCC=O': ['EVODEX.0-E2'],\n",
              " 'CCCO>>C([C@@H](C(=O)O)N)=O': [],\n",
              " 'CCCO>>CCCOC': ['EVODEX.0-E746'],\n",
              " 'CCCO>>CC(Br)CO': [],\n",
              " 'C([C@@H](C(=O)O)N)O>>CCC=O': [],\n",
              " 'C([C@@H](C(=O)O)N)O>>C([C@@H](C(=O)O)N)=O': ['EVODEX.0-E2'],\n",
              " 'C([C@@H](C(=O)O)N)O>>CCCOC': [],\n",
              " 'C([C@@H](C(=O)O)N)O>>CC(Br)CO': []}"
            ]
          },
          "metadata": {},
          "execution_count": 4
        }
      ]
    },
    {
      "cell_type": "markdown",
      "source": [
        "## Summary of Results"
      ],
      "metadata": {
        "id": "nFLYjQCVsUF6"
      }
    },
    {
      "cell_type": "code",
      "source": [
        "# Combine and display results from both functions\n",
        "summary = []\n",
        "for reaction in test_reactions:\n",
        "    summary.append({\n",
        "        'Reaction': reaction,\n",
        "        'EVODEX-F': assign_results.get(reaction),\n",
        "        'Matched Operators': match_results.get(reaction)\n",
        "    })\n",
        "\n",
        "# Convert summary to a DataFrame for better display\n",
        "df_summary = pd.DataFrame(summary)\n",
        "df_summary\n"
      ],
      "metadata": {
        "id": "fwQ5WKvxjFNi",
        "colab": {
          "base_uri": "https://localhost:8080/",
          "height": 300
        },
        "outputId": "cc665e2a-3326-4e25-961f-aabcc270372e"
      },
      "execution_count": 5,
      "outputs": [
        {
          "output_type": "execute_result",
          "data": {
            "text/plain": [
              "                                    Reaction         EVODEX-F  \\\n",
              "0                                CCCO>>CCC=O    [EVODEX.0-F4]   \n",
              "1                 CCCO>>C([C@@H](C(=O)O)N)=O             None   \n",
              "2                                CCCO>>CCCOC  [EVODEX.0-F569]   \n",
              "3                             CCCO>>CC(Br)CO             None   \n",
              "4                 C([C@@H](C(=O)O)N)O>>CCC=O             None   \n",
              "5  C([C@@H](C(=O)O)N)O>>C([C@@H](C(=O)O)N)=O    [EVODEX.0-F4]   \n",
              "6                 C([C@@H](C(=O)O)N)O>>CCCOC             None   \n",
              "7              C([C@@H](C(=O)O)N)O>>CC(Br)CO             None   \n",
              "\n",
              "  Matched Operators  \n",
              "0     [EVODEX.0-E2]  \n",
              "1                []  \n",
              "2   [EVODEX.0-E746]  \n",
              "3                []  \n",
              "4                []  \n",
              "5     [EVODEX.0-E2]  \n",
              "6                []  \n",
              "7                []  "
            ],
            "text/html": [
              "\n",
              "  <div id=\"df-e099d8e1-6108-451a-8593-589edfc75162\" class=\"colab-df-container\">\n",
              "    <div>\n",
              "<style scoped>\n",
              "    .dataframe tbody tr th:only-of-type {\n",
              "        vertical-align: middle;\n",
              "    }\n",
              "\n",
              "    .dataframe tbody tr th {\n",
              "        vertical-align: top;\n",
              "    }\n",
              "\n",
              "    .dataframe thead th {\n",
              "        text-align: right;\n",
              "    }\n",
              "</style>\n",
              "<table border=\"1\" class=\"dataframe\">\n",
              "  <thead>\n",
              "    <tr style=\"text-align: right;\">\n",
              "      <th></th>\n",
              "      <th>Reaction</th>\n",
              "      <th>EVODEX-F</th>\n",
              "      <th>Matched Operators</th>\n",
              "    </tr>\n",
              "  </thead>\n",
              "  <tbody>\n",
              "    <tr>\n",
              "      <th>0</th>\n",
              "      <td>CCCO&gt;&gt;CCC=O</td>\n",
              "      <td>[EVODEX.0-F4]</td>\n",
              "      <td>[EVODEX.0-E2]</td>\n",
              "    </tr>\n",
              "    <tr>\n",
              "      <th>1</th>\n",
              "      <td>CCCO&gt;&gt;C([C@@H](C(=O)O)N)=O</td>\n",
              "      <td>None</td>\n",
              "      <td>[]</td>\n",
              "    </tr>\n",
              "    <tr>\n",
              "      <th>2</th>\n",
              "      <td>CCCO&gt;&gt;CCCOC</td>\n",
              "      <td>[EVODEX.0-F569]</td>\n",
              "      <td>[EVODEX.0-E746]</td>\n",
              "    </tr>\n",
              "    <tr>\n",
              "      <th>3</th>\n",
              "      <td>CCCO&gt;&gt;CC(Br)CO</td>\n",
              "      <td>None</td>\n",
              "      <td>[]</td>\n",
              "    </tr>\n",
              "    <tr>\n",
              "      <th>4</th>\n",
              "      <td>C([C@@H](C(=O)O)N)O&gt;&gt;CCC=O</td>\n",
              "      <td>None</td>\n",
              "      <td>[]</td>\n",
              "    </tr>\n",
              "    <tr>\n",
              "      <th>5</th>\n",
              "      <td>C([C@@H](C(=O)O)N)O&gt;&gt;C([C@@H](C(=O)O)N)=O</td>\n",
              "      <td>[EVODEX.0-F4]</td>\n",
              "      <td>[EVODEX.0-E2]</td>\n",
              "    </tr>\n",
              "    <tr>\n",
              "      <th>6</th>\n",
              "      <td>C([C@@H](C(=O)O)N)O&gt;&gt;CCCOC</td>\n",
              "      <td>None</td>\n",
              "      <td>[]</td>\n",
              "    </tr>\n",
              "    <tr>\n",
              "      <th>7</th>\n",
              "      <td>C([C@@H](C(=O)O)N)O&gt;&gt;CC(Br)CO</td>\n",
              "      <td>None</td>\n",
              "      <td>[]</td>\n",
              "    </tr>\n",
              "  </tbody>\n",
              "</table>\n",
              "</div>\n",
              "    <div class=\"colab-df-buttons\">\n",
              "\n",
              "  <div class=\"colab-df-container\">\n",
              "    <button class=\"colab-df-convert\" onclick=\"convertToInteractive('df-e099d8e1-6108-451a-8593-589edfc75162')\"\n",
              "            title=\"Convert this dataframe to an interactive table.\"\n",
              "            style=\"display:none;\">\n",
              "\n",
              "  <svg xmlns=\"http://www.w3.org/2000/svg\" height=\"24px\" viewBox=\"0 -960 960 960\">\n",
              "    <path d=\"M120-120v-720h720v720H120Zm60-500h600v-160H180v160Zm220 220h160v-160H400v160Zm0 220h160v-160H400v160ZM180-400h160v-160H180v160Zm440 0h160v-160H620v160ZM180-180h160v-160H180v160Zm440 0h160v-160H620v160Z\"/>\n",
              "  </svg>\n",
              "    </button>\n",
              "\n",
              "  <style>\n",
              "    .colab-df-container {\n",
              "      display:flex;\n",
              "      gap: 12px;\n",
              "    }\n",
              "\n",
              "    .colab-df-convert {\n",
              "      background-color: #E8F0FE;\n",
              "      border: none;\n",
              "      border-radius: 50%;\n",
              "      cursor: pointer;\n",
              "      display: none;\n",
              "      fill: #1967D2;\n",
              "      height: 32px;\n",
              "      padding: 0 0 0 0;\n",
              "      width: 32px;\n",
              "    }\n",
              "\n",
              "    .colab-df-convert:hover {\n",
              "      background-color: #E2EBFA;\n",
              "      box-shadow: 0px 1px 2px rgba(60, 64, 67, 0.3), 0px 1px 3px 1px rgba(60, 64, 67, 0.15);\n",
              "      fill: #174EA6;\n",
              "    }\n",
              "\n",
              "    .colab-df-buttons div {\n",
              "      margin-bottom: 4px;\n",
              "    }\n",
              "\n",
              "    [theme=dark] .colab-df-convert {\n",
              "      background-color: #3B4455;\n",
              "      fill: #D2E3FC;\n",
              "    }\n",
              "\n",
              "    [theme=dark] .colab-df-convert:hover {\n",
              "      background-color: #434B5C;\n",
              "      box-shadow: 0px 1px 3px 1px rgba(0, 0, 0, 0.15);\n",
              "      filter: drop-shadow(0px 1px 2px rgba(0, 0, 0, 0.3));\n",
              "      fill: #FFFFFF;\n",
              "    }\n",
              "  </style>\n",
              "\n",
              "    <script>\n",
              "      const buttonEl =\n",
              "        document.querySelector('#df-e099d8e1-6108-451a-8593-589edfc75162 button.colab-df-convert');\n",
              "      buttonEl.style.display =\n",
              "        google.colab.kernel.accessAllowed ? 'block' : 'none';\n",
              "\n",
              "      async function convertToInteractive(key) {\n",
              "        const element = document.querySelector('#df-e099d8e1-6108-451a-8593-589edfc75162');\n",
              "        const dataTable =\n",
              "          await google.colab.kernel.invokeFunction('convertToInteractive',\n",
              "                                                    [key], {});\n",
              "        if (!dataTable) return;\n",
              "\n",
              "        const docLinkHtml = 'Like what you see? Visit the ' +\n",
              "          '<a target=\"_blank\" href=https://colab.research.google.com/notebooks/data_table.ipynb>data table notebook</a>'\n",
              "          + ' to learn more about interactive tables.';\n",
              "        element.innerHTML = '';\n",
              "        dataTable['output_type'] = 'display_data';\n",
              "        await google.colab.output.renderOutput(dataTable, element);\n",
              "        const docLink = document.createElement('div');\n",
              "        docLink.innerHTML = docLinkHtml;\n",
              "        element.appendChild(docLink);\n",
              "      }\n",
              "    </script>\n",
              "  </div>\n",
              "\n",
              "\n",
              "<div id=\"df-c609bb48-31de-46f6-924f-f2058cf38fc0\">\n",
              "  <button class=\"colab-df-quickchart\" onclick=\"quickchart('df-c609bb48-31de-46f6-924f-f2058cf38fc0')\"\n",
              "            title=\"Suggest charts\"\n",
              "            style=\"display:none;\">\n",
              "\n",
              "<svg xmlns=\"http://www.w3.org/2000/svg\" height=\"24px\"viewBox=\"0 0 24 24\"\n",
              "     width=\"24px\">\n",
              "    <g>\n",
              "        <path d=\"M19 3H5c-1.1 0-2 .9-2 2v14c0 1.1.9 2 2 2h14c1.1 0 2-.9 2-2V5c0-1.1-.9-2-2-2zM9 17H7v-7h2v7zm4 0h-2V7h2v10zm4 0h-2v-4h2v4z\"/>\n",
              "    </g>\n",
              "</svg>\n",
              "  </button>\n",
              "\n",
              "<style>\n",
              "  .colab-df-quickchart {\n",
              "      --bg-color: #E8F0FE;\n",
              "      --fill-color: #1967D2;\n",
              "      --hover-bg-color: #E2EBFA;\n",
              "      --hover-fill-color: #174EA6;\n",
              "      --disabled-fill-color: #AAA;\n",
              "      --disabled-bg-color: #DDD;\n",
              "  }\n",
              "\n",
              "  [theme=dark] .colab-df-quickchart {\n",
              "      --bg-color: #3B4455;\n",
              "      --fill-color: #D2E3FC;\n",
              "      --hover-bg-color: #434B5C;\n",
              "      --hover-fill-color: #FFFFFF;\n",
              "      --disabled-bg-color: #3B4455;\n",
              "      --disabled-fill-color: #666;\n",
              "  }\n",
              "\n",
              "  .colab-df-quickchart {\n",
              "    background-color: var(--bg-color);\n",
              "    border: none;\n",
              "    border-radius: 50%;\n",
              "    cursor: pointer;\n",
              "    display: none;\n",
              "    fill: var(--fill-color);\n",
              "    height: 32px;\n",
              "    padding: 0;\n",
              "    width: 32px;\n",
              "  }\n",
              "\n",
              "  .colab-df-quickchart:hover {\n",
              "    background-color: var(--hover-bg-color);\n",
              "    box-shadow: 0 1px 2px rgba(60, 64, 67, 0.3), 0 1px 3px 1px rgba(60, 64, 67, 0.15);\n",
              "    fill: var(--button-hover-fill-color);\n",
              "  }\n",
              "\n",
              "  .colab-df-quickchart-complete:disabled,\n",
              "  .colab-df-quickchart-complete:disabled:hover {\n",
              "    background-color: var(--disabled-bg-color);\n",
              "    fill: var(--disabled-fill-color);\n",
              "    box-shadow: none;\n",
              "  }\n",
              "\n",
              "  .colab-df-spinner {\n",
              "    border: 2px solid var(--fill-color);\n",
              "    border-color: transparent;\n",
              "    border-bottom-color: var(--fill-color);\n",
              "    animation:\n",
              "      spin 1s steps(1) infinite;\n",
              "  }\n",
              "\n",
              "  @keyframes spin {\n",
              "    0% {\n",
              "      border-color: transparent;\n",
              "      border-bottom-color: var(--fill-color);\n",
              "      border-left-color: var(--fill-color);\n",
              "    }\n",
              "    20% {\n",
              "      border-color: transparent;\n",
              "      border-left-color: var(--fill-color);\n",
              "      border-top-color: var(--fill-color);\n",
              "    }\n",
              "    30% {\n",
              "      border-color: transparent;\n",
              "      border-left-color: var(--fill-color);\n",
              "      border-top-color: var(--fill-color);\n",
              "      border-right-color: var(--fill-color);\n",
              "    }\n",
              "    40% {\n",
              "      border-color: transparent;\n",
              "      border-right-color: var(--fill-color);\n",
              "      border-top-color: var(--fill-color);\n",
              "    }\n",
              "    60% {\n",
              "      border-color: transparent;\n",
              "      border-right-color: var(--fill-color);\n",
              "    }\n",
              "    80% {\n",
              "      border-color: transparent;\n",
              "      border-right-color: var(--fill-color);\n",
              "      border-bottom-color: var(--fill-color);\n",
              "    }\n",
              "    90% {\n",
              "      border-color: transparent;\n",
              "      border-bottom-color: var(--fill-color);\n",
              "    }\n",
              "  }\n",
              "</style>\n",
              "\n",
              "  <script>\n",
              "    async function quickchart(key) {\n",
              "      const quickchartButtonEl =\n",
              "        document.querySelector('#' + key + ' button');\n",
              "      quickchartButtonEl.disabled = true;  // To prevent multiple clicks.\n",
              "      quickchartButtonEl.classList.add('colab-df-spinner');\n",
              "      try {\n",
              "        const charts = await google.colab.kernel.invokeFunction(\n",
              "            'suggestCharts', [key], {});\n",
              "      } catch (error) {\n",
              "        console.error('Error during call to suggestCharts:', error);\n",
              "      }\n",
              "      quickchartButtonEl.classList.remove('colab-df-spinner');\n",
              "      quickchartButtonEl.classList.add('colab-df-quickchart-complete');\n",
              "    }\n",
              "    (() => {\n",
              "      let quickchartButtonEl =\n",
              "        document.querySelector('#df-c609bb48-31de-46f6-924f-f2058cf38fc0 button');\n",
              "      quickchartButtonEl.style.display =\n",
              "        google.colab.kernel.accessAllowed ? 'block' : 'none';\n",
              "    })();\n",
              "  </script>\n",
              "</div>\n",
              "\n",
              "  <div id=\"id_1b20a8f2-18d4-4688-b904-3e2c6b33b3b1\">\n",
              "    <style>\n",
              "      .colab-df-generate {\n",
              "        background-color: #E8F0FE;\n",
              "        border: none;\n",
              "        border-radius: 50%;\n",
              "        cursor: pointer;\n",
              "        display: none;\n",
              "        fill: #1967D2;\n",
              "        height: 32px;\n",
              "        padding: 0 0 0 0;\n",
              "        width: 32px;\n",
              "      }\n",
              "\n",
              "      .colab-df-generate:hover {\n",
              "        background-color: #E2EBFA;\n",
              "        box-shadow: 0px 1px 2px rgba(60, 64, 67, 0.3), 0px 1px 3px 1px rgba(60, 64, 67, 0.15);\n",
              "        fill: #174EA6;\n",
              "      }\n",
              "\n",
              "      [theme=dark] .colab-df-generate {\n",
              "        background-color: #3B4455;\n",
              "        fill: #D2E3FC;\n",
              "      }\n",
              "\n",
              "      [theme=dark] .colab-df-generate:hover {\n",
              "        background-color: #434B5C;\n",
              "        box-shadow: 0px 1px 3px 1px rgba(0, 0, 0, 0.15);\n",
              "        filter: drop-shadow(0px 1px 2px rgba(0, 0, 0, 0.3));\n",
              "        fill: #FFFFFF;\n",
              "      }\n",
              "    </style>\n",
              "    <button class=\"colab-df-generate\" onclick=\"generateWithVariable('df_summary')\"\n",
              "            title=\"Generate code using this dataframe.\"\n",
              "            style=\"display:none;\">\n",
              "\n",
              "  <svg xmlns=\"http://www.w3.org/2000/svg\" height=\"24px\"viewBox=\"0 0 24 24\"\n",
              "       width=\"24px\">\n",
              "    <path d=\"M7,19H8.4L18.45,9,17,7.55,7,17.6ZM5,21V16.75L18.45,3.32a2,2,0,0,1,2.83,0l1.4,1.43a1.91,1.91,0,0,1,.58,1.4,1.91,1.91,0,0,1-.58,1.4L9.25,21ZM18.45,9,17,7.55Zm-12,3A5.31,5.31,0,0,0,4.9,8.1,5.31,5.31,0,0,0,1,6.5,5.31,5.31,0,0,0,4.9,4.9,5.31,5.31,0,0,0,6.5,1,5.31,5.31,0,0,0,8.1,4.9,5.31,5.31,0,0,0,12,6.5,5.46,5.46,0,0,0,6.5,12Z\"/>\n",
              "  </svg>\n",
              "    </button>\n",
              "    <script>\n",
              "      (() => {\n",
              "      const buttonEl =\n",
              "        document.querySelector('#id_1b20a8f2-18d4-4688-b904-3e2c6b33b3b1 button.colab-df-generate');\n",
              "      buttonEl.style.display =\n",
              "        google.colab.kernel.accessAllowed ? 'block' : 'none';\n",
              "\n",
              "      buttonEl.onclick = () => {\n",
              "        google.colab.notebook.generateWithVariable('df_summary');\n",
              "      }\n",
              "      })();\n",
              "    </script>\n",
              "  </div>\n",
              "\n",
              "    </div>\n",
              "  </div>\n"
            ],
            "application/vnd.google.colaboratory.intrinsic+json": {
              "type": "dataframe",
              "variable_name": "df_summary",
              "summary": "{\n  \"name\": \"df_summary\",\n  \"rows\": 8,\n  \"fields\": [\n    {\n      \"column\": \"Reaction\",\n      \"properties\": {\n        \"dtype\": \"string\",\n        \"num_unique_values\": 8,\n        \"samples\": [\n          \"CCCO>>C([C@@H](C(=O)O)N)=O\",\n          \"C([C@@H](C(=O)O)N)O>>C([C@@H](C(=O)O)N)=O\",\n          \"CCCO>>CCC=O\"\n        ],\n        \"semantic_type\": \"\",\n        \"description\": \"\"\n      }\n    },\n    {\n      \"column\": \"EVODEX-F\",\n      \"properties\": {\n        \"dtype\": \"object\",\n        \"semantic_type\": \"\",\n        \"description\": \"\"\n      }\n    },\n    {\n      \"column\": \"Matched Operators\",\n      \"properties\": {\n        \"dtype\": \"object\",\n        \"semantic_type\": \"\",\n        \"description\": \"\"\n      }\n    }\n  ]\n}"
            }
          },
          "metadata": {},
          "execution_count": 5
        }
      ]
    },
    {
      "cell_type": "markdown",
      "source": [
        "## Visualize the Molecules"
      ],
      "metadata": {
        "id": "b5chj14QqaCR"
      }
    },
    {
      "cell_type": "code",
      "source": [
        "from rdkit import Chem\n",
        "from rdkit.Chem import Draw\n",
        "from rdkit.Chem.Draw import ReactionToImage\n",
        "\n",
        "# Function to draw reactions with arrows\n",
        "def draw_reactions_with_arrows(reactions):\n",
        "    rxn_images = []\n",
        "    for reaction in reactions:\n",
        "        rxn = AllChem.ReactionFromSmarts(reaction, useSmiles=True)\n",
        "        img = ReactionToImage(rxn, subImgSize=(300, 150))\n",
        "        rxn_images.append(img)\n",
        "    return rxn_images\n",
        "\n",
        "# Prepare reactions based on analysis results in df_summary\n",
        "good_reactions = df_summary[df_summary['Matched Operators'].apply(lambda x: len(x) > 0)]['Reaction'].tolist()\n",
        "bad_reactions = df_summary[df_summary['Matched Operators'].apply(lambda x: len(x) == 0)]['Reaction'].tolist()\n",
        "\n",
        "# Draw the good reactions\n",
        "print(\"Good Reactions:\")\n",
        "good_reaction_images = draw_reactions_with_arrows(good_reactions)\n",
        "for img in good_reaction_images:\n",
        "    display(img)\n",
        "\n",
        "# Draw the bad reactions\n",
        "print(\"Bad Reactions:\")\n",
        "bad_reaction_images = draw_reactions_with_arrows(bad_reactions)\n",
        "for img in bad_reaction_images:\n",
        "    display(img)\n"
      ],
      "metadata": {
        "id": "KuIemffGqfP1",
        "colab": {
          "base_uri": "https://localhost:8080/",
          "height": 1000
        },
        "outputId": "806a2be9-f9af-475b-ee32-5a8fddce46b0"
      },
      "execution_count": 6,
      "outputs": [
        {
          "output_type": "stream",
          "name": "stdout",
          "text": [
            "Good Reactions:\n"
          ]
        },
        {
          "output_type": "display_data",
          "data": {
            "text/plain": [
              "<PIL.PngImagePlugin.PngImageFile image mode=RGB size=900x150>"
            ],
            "image/png": "[encoded data removed]"
          },
          "metadata": {}
        },
        {
          "output_type": "display_data",
          "data": {
            "text/plain": [
              "<PIL.PngImagePlugin.PngImageFile image mode=RGB size=900x150>"
            ],
            "image/png": "[encoded data removed]"
          },
          "metadata": {}
        },
        {
          "output_type": "display_data",
          "data": {
            "text/plain": [
              "<PIL.PngImagePlugin.PngImageFile image mode=RGB size=900x150>"
            ],
            "image/png": "[encoded data removed]"
          },
          "metadata": {}
        },
        {
          "output_type": "stream",
          "name": "stdout",
          "text": [
            "Bad Reactions:\n"
          ]
        },
        {
          "output_type": "display_data",
          "data": {
            "text/plain": [
              "<PIL.PngImagePlugin.PngImageFile image mode=RGB size=900x150>"
            ],
            "image/png": "[encoded data removed]"
          },
          "metadata": {}
        },
        {
          "output_type": "display_data",
          "data": {
            "text/plain": [
              "<PIL.PngImagePlugin.PngImageFile image mode=RGB size=900x150>"
            ],
            "image/png": "[encoded data removed]"
          },
          "metadata": {}
        },
        {
          "output_type": "display_data",
          "data": {
            "text/plain": [
              "<PIL.PngImagePlugin.PngImageFile image mode=RGB size=900x150>"
            ],
            "image/png": "[encoded data removed]"
          },
          "metadata": {}
        },
        {
          "output_type": "display_data",
          "data": {
            "text/plain": [
              "<PIL.PngImagePlugin.PngImageFile image mode=RGB size=900x150>"
            ],
            "image/png": "[encoded data removed]"
          },
          "metadata": {}
        },
        {
          "output_type": "display_data",
          "data": {
            "text/plain": [
              "<PIL.PngImagePlugin.PngImageFile image mode=RGB size=900x150>"
            ],
            "image/png": "[encoded data removed]"
          },
          "metadata": {}
        }
      ]
    },
    {
      "cell_type": "markdown",
      "source": [
        "## Explanation and Final Thoughts\n",
        "\n",
        "The first three reactions are matched to EVODEX-E reactions that apply to primary alcohols, specifically identifying oxidation and methylation processes. The five 'bad' reactions either change the carbon chain or rearrange the atoms in a manner that no enzyme would catalyze.\n",
        "\n",
        "There is a third way to do validation with EVODEX operators Cm, Em, and Nm. This method involves atom-to-atom mapping of the reaction, calculating its EVODEX-Em or the others, and then checking if it matches any of the previously mined operators. This would enable a less biased method of validation--the 'complete' operators C, N, and E include unmapped atoms and thus contain portions of molecules not relevant to the enzyme mechanism.  The 'matched' operators Cm, Nm, and Em only contain atoms around the reaction centers and thus more narrowly capture the idea of mechanistic sufficiency. However, this approach requires the use of atom-to-atom mapping algorithms and data sanitization, which are currently imperfect and outside the scope of EVODEX algorithms. As a result, we have not demonstrated this approach here."
      ],
      "metadata": {
        "id": "n3Xm4yDSx9iJ"
      }
    }
  ]
}