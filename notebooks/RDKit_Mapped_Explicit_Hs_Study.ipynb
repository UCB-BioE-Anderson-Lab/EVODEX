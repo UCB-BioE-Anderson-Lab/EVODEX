{
  "cells": [
    {
      "cell_type": "markdown",
      "id": "22aad815",
      "metadata": {
        "id": "22aad815"
      },
      "source": [
        "# RDKit and Explicit Hydrogens in Mapped Reaction SMILES\n",
        "This notebook demonstrates one of the issues in using explicit hydrogens encountered with RDKit. When starting with a mapped reaction SMILES, the addHs method only partially identifies them.  Without the atom maps, it finds all of them.  However, it then loses the association of the maps with the atoms."
      ]
    },
    {
      "cell_type": "code",
      "execution_count": 11,
      "id": "89a8c746",
      "metadata": {
        "colab": {
          "base_uri": "https://localhost:8080/"
        },
        "id": "89a8c746",
        "outputId": "faa8b969-0bca-446d-e2a2-b7e67a8ce498"
      },
      "outputs": [
        {
          "name": "stdout",
          "output_type": "stream",
          "text": [
            "Requirement already satisfied: rdkit in /usr/local/lib/python3.11/dist-packages (2025.3.3)\n",
            "Requirement already satisfied: numpy in /usr/local/lib/python3.11/dist-packages (from rdkit) (2.0.2)\n",
            "Requirement already satisfied: Pillow in /usr/local/lib/python3.11/dist-packages (from rdkit) (11.2.1)\n"
          ]
        }
      ],
      "source": [
        "!pip install rdkit\n",
        "from rdkit import Chem\n",
        "from rdkit.Chem import AllChem\n",
        "from collections import Counter"
      ]
    },
    {
      "cell_type": "code",
      "execution_count": 12,
      "id": "7c8da4d3",
      "metadata": {
        "id": "7c8da4d3"
      },
      "outputs": [],
      "source": [
        "def count_atoms(mol):\n",
        "    return Counter(atom.GetSymbol() for atom in mol.GetAtoms())\n",
        "\n",
        "def show_atom_maps(mol, label):\n",
        "    print(f\"{label}:\")\n",
        "    for atom in mol.GetAtoms():\n",
        "        print(f\"  {atom.GetSymbol():>2} - map {atom.GetAtomMapNum()} - idx {atom.GetIdx()}\")"
      ]
    },
    {
      "cell_type": "markdown",
      "id": "c5fff8bb",
      "metadata": {
        "id": "c5fff8bb"
      },
      "source": [
        "## Step 1: Load Mapped Reaction SMILES\n",
        "We start from a mapped SMILES expression that does **not** include explicit hydrogens."
      ]
    },
    {
      "cell_type": "code",
      "execution_count": 13,
      "id": "1395d435",
      "metadata": {
        "id": "1395d435"
      },
      "outputs": [],
      "source": [
        "rxn_smiles = \"[C:1][C:2](=[O:3])O.[N:4][C:5]>>[C:1][C:2](=[O:3])[N:4][C:5]\"\n",
        "reaction = AllChem.ReactionFromSmarts(rxn_smiles, useSmiles=True)\n",
        "reactants = [reaction.GetReactantTemplate(i) for i in range(reaction.GetNumReactantTemplates())]\n",
        "products = [reaction.GetProductTemplate(i) for i in range(reaction.GetNumProductTemplates())]"
      ]
    },
    {
      "cell_type": "markdown",
      "id": "41de4c54",
      "metadata": {
        "id": "41de4c54"
      },
      "source": [
        "### Atom counts before adding hydrogens"
      ]
    },
    {
      "cell_type": "code",
      "execution_count": 14,
      "id": "f5ba5e95",
      "metadata": {
        "colab": {
          "base_uri": "https://localhost:8080/"
        },
        "id": "f5ba5e95",
        "outputId": "7851b420-2645-4dfd-baae-0b36f1ccdc01"
      },
      "outputs": [
        {
          "name": "stdout",
          "output_type": "stream",
          "text": [
            "Reactant 0: {'C': 2, 'O': 2}\n",
            "Reactant 1: {'N': 1, 'C': 1}\n",
            "Product 0: {'C': 3, 'O': 1, 'N': 1}\n"
          ]
        }
      ],
      "source": [
        "for i, mol in enumerate(reactants):\n",
        "    print(f\"Reactant {i}: {dict(count_atoms(mol))}\")\n",
        "for i, mol in enumerate(products):\n",
        "    print(f\"Product {i}: {dict(count_atoms(mol))}\")"
      ]
    },
    {
      "cell_type": "markdown",
      "id": "a29ff3a0",
      "metadata": {
        "id": "a29ff3a0"
      },
      "source": [
        "## Step 2: Rebuild molecules and add explicit hydrogens\n",
        "We sanitize and rebuild each molecule, then call `Chem.AddHs` to ensure hydrogens are added."
      ]
    },
    {
      "cell_type": "code",
      "execution_count": 15,
      "id": "866f46ae",
      "metadata": {
        "id": "866f46ae"
      },
      "outputs": [],
      "source": [
        "def rebuild_and_add_hs(mol):\n",
        "    mol = Chem.Mol(mol)\n",
        "    Chem.SanitizeMol(mol)\n",
        "    mol = Chem.AddHs(mol)\n",
        "    return mol\n",
        "\n",
        "reactants_h = [rebuild_and_add_hs(mol) for mol in reactants]\n",
        "products_h = [rebuild_and_add_hs(mol) for mol in products]"
      ]
    },
    {
      "cell_type": "markdown",
      "id": "867c8286",
      "metadata": {
        "id": "867c8286"
      },
      "source": [
        "### Atom counts after adding hydrogens\n",
        "Notice that only the hydrogen on the carboxyl group is added"
      ]
    },
    {
      "cell_type": "code",
      "execution_count": 16,
      "id": "e3dd042e",
      "metadata": {
        "colab": {
          "base_uri": "https://localhost:8080/"
        },
        "id": "e3dd042e",
        "outputId": "22823e6a-ee2d-4868-e31a-a967307a8d5a"
      },
      "outputs": [
        {
          "name": "stdout",
          "output_type": "stream",
          "text": [
            "Reactant 0: {'C': 2, 'O': 2, 'H': 1}\n",
            "Reactant 1: {'N': 1, 'C': 1}\n",
            "Product 0: {'C': 3, 'O': 1, 'N': 1}\n"
          ]
        }
      ],
      "source": [
        "for i, mol in enumerate(reactants_h):\n",
        "    print(f\"Reactant {i}: {dict(count_atoms(mol))}\")\n",
        "for i, mol in enumerate(products_h):\n",
        "    print(f\"Product {i}: {dict(count_atoms(mol))}\")"
      ]
    }
  ],
  "metadata": {
    "colab": {
      "provenance": []
    },
    "kernelspec": {
      "display_name": "Python 3",
      "name": "python3"
    },
    "language_info": {
      "name": "python"
    }
  },
  "nbformat": 4,
  "nbformat_minor": 5
}
